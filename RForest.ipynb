{
 "cells": [
  {
   "cell_type": "code",
   "execution_count": 6,
   "id": "97f46032-2301-4e28-bdb5-7e808081b681",
   "metadata": {},
   "outputs": [
    {
     "name": "stdout",
     "output_type": "stream",
     "text": [
      "Dataset Columns: Index(['state', 'account length', 'area code', 'phone number',\n",
      "       'international plan', 'voice mail plan', 'number vmail messages',\n",
      "       'total day minutes', 'total day calls', 'total day charge',\n",
      "       'total eve minutes', 'total eve calls', 'total eve charge',\n",
      "       'total night minutes', 'total night calls', 'total night charge',\n",
      "       'total intl minutes', 'total intl calls', 'total intl charge',\n",
      "       'customer service calls', 'churn'],\n",
      "      dtype='object')\n",
      "Accuracy: 0.8980509745127436\n",
      "Confusion Matrix:\n",
      " [[553  13]\n",
      " [ 55  46]]\n",
      "Classification Report:\n",
      "               precision    recall  f1-score   support\n",
      "\n",
      "       False       0.91      0.98      0.94       566\n",
      "        True       0.78      0.46      0.57       101\n",
      "\n",
      "    accuracy                           0.90       667\n",
      "   macro avg       0.84      0.72      0.76       667\n",
      "weighted avg       0.89      0.90      0.89       667\n",
      "\n"
     ]
    },
    {
     "data": {
      "text/plain": [
       "['rf_model.pkl']"
      ]
     },
     "execution_count": 6,
     "metadata": {},
     "output_type": "execute_result"
    }
   ],
   "source": [
    "import pandas as pd\n",
    "import joblib\n",
    "from sklearn.model_selection import train_test_split\n",
    "from sklearn.ensemble import RandomForestClassifier\n",
    "from sklearn.metrics import accuracy_score, classification_report, confusion_matrix\n",
    "\n",
    "df = pd.read_csv(\"telecom_churn.csv\")\n",
    "\n",
    "print(\"Dataset Columns:\", df.columns)\n",
    "\n",
    "features = [\"account length\", \"total day minutes\", \"total eve minutes\", \n",
    "            \"total night minutes\", \"total intl charge\", \"customer service calls\"]\n",
    "\n",
    "X = df[features]\n",
    "y = df[\"churn\"]\n",
    "\n",
    "X = X.fillna(X.median())\n",
    "\n",
    "if y.dtype == 'O':  \n",
    "    y = y.map({\"yes\": 1, \"no\": 0})  # Convert \"yes\" -> 1, \"no\" -> 0\n",
    "\n",
    "X_train, X_test, y_train, y_test = train_test_split(X, y, test_size=0.2, random_state=42)\n",
    "\n",
    "model = RandomForestClassifier(n_estimators=100, random_state=42)\n",
    "model.fit(X_train, y_train)\n",
    "\n",
    "y_pred = model.predict(X_test)\n",
    "print(\"Accuracy:\", accuracy_score(y_test, y_pred))\n",
    "print(\"Confusion Matrix:\\n\", confusion_matrix(y_test, y_pred))\n",
    "print(\"Classification Report:\\n\", classification_report(y_test, y_pred))\n",
    "\n",
    "joblib.dump(model, \"rf_model.pkl\")\n"
   ]
  },
  {
   "cell_type": "code",
   "execution_count": null,
   "id": "7519a30c-86c2-42ef-8cd7-60a68a4eaa6a",
   "metadata": {},
   "outputs": [],
   "source": []
  }
 ],
 "metadata": {
  "kernelspec": {
   "display_name": "Python 3 (ipykernel)",
   "language": "python",
   "name": "python3"
  },
  "language_info": {
   "codemirror_mode": {
    "name": "ipython",
    "version": 3
   },
   "file_extension": ".py",
   "mimetype": "text/x-python",
   "name": "python",
   "nbconvert_exporter": "python",
   "pygments_lexer": "ipython3",
   "version": "3.12.7"
  },
  "panel-cell-order": [
   "7a2d4f57-f41c-499f-a38e-424be9b94524",
   "8cf11c11-2e8e-4b54-a0c4-ee66fd84982f",
   "6f5b1e57-8685-498b-bd22-c1e6f8a363bf",
   "cd1d3930-a36d-42bd-886d-832950d61cbc",
   "9a781865-dfb4-4e7f-9486-7bd1ea048710"
  ]
 },
 "nbformat": 4,
 "nbformat_minor": 5
}
